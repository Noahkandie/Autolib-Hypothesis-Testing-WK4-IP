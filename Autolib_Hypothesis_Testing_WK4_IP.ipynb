{
  "nbformat": 4,
  "nbformat_minor": 0,
  "metadata": {
    "colab": {
      "name": "Autolib Hypothesis Testing WK4 IP.ipynb",
      "provenance": [],
      "collapsed_sections": [],
      "authorship_tag": "ABX9TyOVZ1COwp75oHpYMJS/Z/T7",
      "include_colab_link": true
    },
    "kernelspec": {
      "name": "python3",
      "display_name": "Python 3"
    },
    "language_info": {
      "name": "python"
    }
  },
  "cells": [
    {
      "cell_type": "markdown",
      "metadata": {
        "id": "view-in-github",
        "colab_type": "text"
      },
      "source": [
        "<a href=\"https://colab.research.google.com/github/Noahkandie/Autolib-Hypothesis-Testing-WK4-IP/blob/main/Autolib_Hypothesis_Testing_WK4_IP.ipynb\" target=\"_parent\"><img src=\"https://colab.research.google.com/assets/colab-badge.svg\" alt=\"Open In Colab\"/></a>"
      ]
    },
    {
      "cell_type": "markdown",
      "metadata": {
        "id": "jJreBYhF5vHX"
      },
      "source": [
        "# Defining the Question"
      ]
    },
    {
      "cell_type": "markdown",
      "metadata": {
        "id": "yhAEmwd25W-f"
      },
      "source": [
        "\n",
        "\n",
        "We will work as a Data Scientist for the Autolib electric car-sharing service company to investigate a claim about the blue cars from the provided Autolib dataset.\n",
        "\n",
        "In an effort to do this, we need to identify some areas and periods of interest via sampling stating the reason to the choice of method, then perform hypothesis testing with regards to the claim that we will have made.\n",
        "\n",
        "To work on this project, we will perform the following analysis with Python:\n",
        "   1. Find and deal with outliers, anomalies, and missing data within the dataset.\n",
        "   2.  Plot appropriate univariate and bivariate summaries recording our observations.\n",
        "   3.  Implement the solution by performing hypothesis testing.\n",
        "   \n",
        "The data set I am working with is the Autolib dataset that is produced on the Moringa School LMS. It contains information concerning 3 brands of electric cars belonging to the Autolib company: the Bluecar, the Utilib, and the Utilib 14."
      ]
    },
    {
      "cell_type": "markdown",
      "metadata": {
        "id": "6ZFWIlN254ry"
      },
      "source": [
        "## Problem Statement"
      ]
    },
    {
      "cell_type": "markdown",
      "metadata": {
        "id": "Dde1QjYZ526Q"
      },
      "source": [
        "To investigate whether there is a viable difference between Bluecar usage on different day types i.e. weekdays or weekend"
      ]
    },
    {
      "cell_type": "markdown",
      "metadata": {
        "id": "lfh5LIiL6JgT"
      },
      "source": [
        "## Hypothesis"
      ]
    },
    {
      "cell_type": "markdown",
      "metadata": {
        "id": "0d2fK9MZ6SmQ"
      },
      "source": [
        "The null hypothesis I will test is that the mean of the number of Bluecars cars taken on the weekdays is equal to that of the Bluecars taken on the week, i.e., there is no difference between the two means.\n",
        "\n",
        "μ₁: mean number of bluecars taken during normal weekdays\n",
        "\n",
        "μ₂: mean number of bluecars taken during the weekends\n",
        "\n",
        "Null and Alternative hypothesis\n",
        "\n",
        "Ho: μ₁ = μ₂\n",
        "\n",
        "H1: μ₁ ≠ μ₂ "
      ]
    },
    {
      "cell_type": "code",
      "metadata": {
        "id": "u_0pksFs8dYO"
      },
      "source": [
        "# Import Libraries\n",
        "import numpy as np\n",
        "import pandas as pd\n",
        "import matplotlib.pyplot as plt\n",
        "import seaborn as sns\n",
        "import scipy.stats as stat"
      ],
      "execution_count": 1,
      "outputs": []
    },
    {
      "cell_type": "code",
      "metadata": {
        "colab": {
          "base_uri": "https://localhost:8080/",
          "height": 241
        },
        "id": "dumpzJYY8pDf",
        "outputId": "b2379af1-2685-4edc-f1f4-2780b18fe9b2"
      },
      "source": [
        "# Load the dataset and preview\n",
        "df=pd.read_csv('/content/autolib_daily_events_postal_code.csv')\n",
        "df[:5]"
      ],
      "execution_count": 2,
      "outputs": [
        {
          "output_type": "execute_result",
          "data": {
            "text/html": [
              "<div>\n",
              "<style scoped>\n",
              "    .dataframe tbody tr th:only-of-type {\n",
              "        vertical-align: middle;\n",
              "    }\n",
              "\n",
              "    .dataframe tbody tr th {\n",
              "        vertical-align: top;\n",
              "    }\n",
              "\n",
              "    .dataframe thead th {\n",
              "        text-align: right;\n",
              "    }\n",
              "</style>\n",
              "<table border=\"1\" class=\"dataframe\">\n",
              "  <thead>\n",
              "    <tr style=\"text-align: right;\">\n",
              "      <th></th>\n",
              "      <th>Postal code</th>\n",
              "      <th>date</th>\n",
              "      <th>n_daily_data_points</th>\n",
              "      <th>dayOfWeek</th>\n",
              "      <th>day_type</th>\n",
              "      <th>BlueCars_taken_sum</th>\n",
              "      <th>BlueCars_returned_sum</th>\n",
              "      <th>Utilib_taken_sum</th>\n",
              "      <th>Utilib_returned_sum</th>\n",
              "      <th>Utilib_14_taken_sum</th>\n",
              "      <th>Utilib_14_returned_sum</th>\n",
              "      <th>Slots_freed_sum</th>\n",
              "      <th>Slots_taken_sum</th>\n",
              "    </tr>\n",
              "  </thead>\n",
              "  <tbody>\n",
              "    <tr>\n",
              "      <th>0</th>\n",
              "      <td>75001</td>\n",
              "      <td>1/1/2018</td>\n",
              "      <td>1440</td>\n",
              "      <td>0</td>\n",
              "      <td>weekday</td>\n",
              "      <td>110</td>\n",
              "      <td>103</td>\n",
              "      <td>3</td>\n",
              "      <td>2</td>\n",
              "      <td>10</td>\n",
              "      <td>9</td>\n",
              "      <td>22</td>\n",
              "      <td>20</td>\n",
              "    </tr>\n",
              "    <tr>\n",
              "      <th>1</th>\n",
              "      <td>75001</td>\n",
              "      <td>1/2/2018</td>\n",
              "      <td>1438</td>\n",
              "      <td>1</td>\n",
              "      <td>weekday</td>\n",
              "      <td>98</td>\n",
              "      <td>94</td>\n",
              "      <td>1</td>\n",
              "      <td>1</td>\n",
              "      <td>8</td>\n",
              "      <td>8</td>\n",
              "      <td>23</td>\n",
              "      <td>22</td>\n",
              "    </tr>\n",
              "    <tr>\n",
              "      <th>2</th>\n",
              "      <td>75001</td>\n",
              "      <td>1/3/2018</td>\n",
              "      <td>1439</td>\n",
              "      <td>2</td>\n",
              "      <td>weekday</td>\n",
              "      <td>138</td>\n",
              "      <td>139</td>\n",
              "      <td>0</td>\n",
              "      <td>0</td>\n",
              "      <td>2</td>\n",
              "      <td>2</td>\n",
              "      <td>27</td>\n",
              "      <td>27</td>\n",
              "    </tr>\n",
              "    <tr>\n",
              "      <th>3</th>\n",
              "      <td>75001</td>\n",
              "      <td>1/4/2018</td>\n",
              "      <td>1320</td>\n",
              "      <td>3</td>\n",
              "      <td>weekday</td>\n",
              "      <td>104</td>\n",
              "      <td>104</td>\n",
              "      <td>2</td>\n",
              "      <td>2</td>\n",
              "      <td>9</td>\n",
              "      <td>8</td>\n",
              "      <td>25</td>\n",
              "      <td>21</td>\n",
              "    </tr>\n",
              "    <tr>\n",
              "      <th>4</th>\n",
              "      <td>75001</td>\n",
              "      <td>1/5/2018</td>\n",
              "      <td>1440</td>\n",
              "      <td>4</td>\n",
              "      <td>weekday</td>\n",
              "      <td>114</td>\n",
              "      <td>117</td>\n",
              "      <td>3</td>\n",
              "      <td>3</td>\n",
              "      <td>6</td>\n",
              "      <td>6</td>\n",
              "      <td>18</td>\n",
              "      <td>20</td>\n",
              "    </tr>\n",
              "  </tbody>\n",
              "</table>\n",
              "</div>"
            ],
            "text/plain": [
              "   Postal code      date  ...  Slots_freed_sum  Slots_taken_sum\n",
              "0        75001  1/1/2018  ...               22               20\n",
              "1        75001  1/2/2018  ...               23               22\n",
              "2        75001  1/3/2018  ...               27               27\n",
              "3        75001  1/4/2018  ...               25               21\n",
              "4        75001  1/5/2018  ...               18               20\n",
              "\n",
              "[5 rows x 13 columns]"
            ]
          },
          "metadata": {
            "tags": []
          },
          "execution_count": 2
        }
      ]
    },
    {
      "cell_type": "code",
      "metadata": {
        "colab": {
          "base_uri": "https://localhost:8080/",
          "height": 452
        },
        "id": "HCtW7XWoGGIq",
        "outputId": "ec0bd389-c400-44f7-dc04-70347205bd4a"
      },
      "source": [
        "# Data description\n",
        "col_describe=pd.read_excel('/content/columns_explanation.xlsx')\n",
        "col_describe"
      ],
      "execution_count": 3,
      "outputs": [
        {
          "output_type": "execute_result",
          "data": {
            "text/html": [
              "<div>\n",
              "<style scoped>\n",
              "    .dataframe tbody tr th:only-of-type {\n",
              "        vertical-align: middle;\n",
              "    }\n",
              "\n",
              "    .dataframe tbody tr th {\n",
              "        vertical-align: top;\n",
              "    }\n",
              "\n",
              "    .dataframe thead th {\n",
              "        text-align: right;\n",
              "    }\n",
              "</style>\n",
              "<table border=\"1\" class=\"dataframe\">\n",
              "  <thead>\n",
              "    <tr style=\"text-align: right;\">\n",
              "      <th></th>\n",
              "      <th>Column name</th>\n",
              "      <th>explanation</th>\n",
              "    </tr>\n",
              "  </thead>\n",
              "  <tbody>\n",
              "    <tr>\n",
              "      <th>0</th>\n",
              "      <td>Postal code</td>\n",
              "      <td>postal code of the area (in Paris)</td>\n",
              "    </tr>\n",
              "    <tr>\n",
              "      <th>1</th>\n",
              "      <td>date</td>\n",
              "      <td>date of the row aggregation</td>\n",
              "    </tr>\n",
              "    <tr>\n",
              "      <th>2</th>\n",
              "      <td>n_daily_data_points</td>\n",
              "      <td>number of daily data poinst that were availabl...</td>\n",
              "    </tr>\n",
              "    <tr>\n",
              "      <th>3</th>\n",
              "      <td>dayOfWeek</td>\n",
              "      <td>identifier of weekday (0: Monday -&gt; 6: Sunday)</td>\n",
              "    </tr>\n",
              "    <tr>\n",
              "      <th>4</th>\n",
              "      <td>day_type</td>\n",
              "      <td>weekday or weekend</td>\n",
              "    </tr>\n",
              "    <tr>\n",
              "      <th>5</th>\n",
              "      <td>BlueCars_taken_sum</td>\n",
              "      <td>Number of bluecars taken that date in that area</td>\n",
              "    </tr>\n",
              "    <tr>\n",
              "      <th>6</th>\n",
              "      <td>BlueCars_returned_sum</td>\n",
              "      <td>Number of bluecars returned that date in that ...</td>\n",
              "    </tr>\n",
              "    <tr>\n",
              "      <th>7</th>\n",
              "      <td>Utilib_taken_sum</td>\n",
              "      <td>Number of Utilib taken that date in that area</td>\n",
              "    </tr>\n",
              "    <tr>\n",
              "      <th>8</th>\n",
              "      <td>Utilib_returned_sum</td>\n",
              "      <td>Number of Utilib returned that date in that area</td>\n",
              "    </tr>\n",
              "    <tr>\n",
              "      <th>9</th>\n",
              "      <td>Utilib_14_taken_sum</td>\n",
              "      <td>Number of Utilib 1.4 taken that date in that area</td>\n",
              "    </tr>\n",
              "    <tr>\n",
              "      <th>10</th>\n",
              "      <td>Utilib_14_returned_sum</td>\n",
              "      <td>Number of Utilib 1.4 returned that date in tha...</td>\n",
              "    </tr>\n",
              "    <tr>\n",
              "      <th>11</th>\n",
              "      <td>Slots_freed_sum</td>\n",
              "      <td>Number of recharging slots released that date ...</td>\n",
              "    </tr>\n",
              "    <tr>\n",
              "      <th>12</th>\n",
              "      <td>Slots_taken_sum</td>\n",
              "      <td>Number of rechargign slots taken that date in ...</td>\n",
              "    </tr>\n",
              "  </tbody>\n",
              "</table>\n",
              "</div>"
            ],
            "text/plain": [
              "               Column name                                        explanation\n",
              "0              Postal code                 postal code of the area (in Paris)\n",
              "1                     date                        date of the row aggregation\n",
              "2      n_daily_data_points  number of daily data poinst that were availabl...\n",
              "3                dayOfWeek     identifier of weekday (0: Monday -> 6: Sunday)\n",
              "4                 day_type                                 weekday or weekend\n",
              "5       BlueCars_taken_sum    Number of bluecars taken that date in that area\n",
              "6    BlueCars_returned_sum  Number of bluecars returned that date in that ...\n",
              "7         Utilib_taken_sum      Number of Utilib taken that date in that area\n",
              "8      Utilib_returned_sum   Number of Utilib returned that date in that area\n",
              "9      Utilib_14_taken_sum  Number of Utilib 1.4 taken that date in that area\n",
              "10  Utilib_14_returned_sum  Number of Utilib 1.4 returned that date in tha...\n",
              "11         Slots_freed_sum  Number of recharging slots released that date ...\n",
              "12         Slots_taken_sum  Number of rechargign slots taken that date in ..."
            ]
          },
          "metadata": {
            "tags": []
          },
          "execution_count": 3
        }
      ]
    },
    {
      "cell_type": "code",
      "metadata": {
        "colab": {
          "base_uri": "https://localhost:8080/"
        },
        "id": "1MCK8cdD9Q4T",
        "outputId": "9223b5f0-6f9d-46d9-94da-03de0b74cd29"
      },
      "source": [
        "# Check data info, null values and datatypes\n",
        "df.info()\n",
        "\n",
        "# The dataset has 13 columns and 16085 rows"
      ],
      "execution_count": 4,
      "outputs": [
        {
          "output_type": "stream",
          "text": [
            "<class 'pandas.core.frame.DataFrame'>\n",
            "RangeIndex: 16085 entries, 0 to 16084\n",
            "Data columns (total 13 columns):\n",
            " #   Column                  Non-Null Count  Dtype \n",
            "---  ------                  --------------  ----- \n",
            " 0   Postal code             16085 non-null  int64 \n",
            " 1   date                    16085 non-null  object\n",
            " 2   n_daily_data_points     16085 non-null  int64 \n",
            " 3   dayOfWeek               16085 non-null  int64 \n",
            " 4   day_type                16085 non-null  object\n",
            " 5   BlueCars_taken_sum      16085 non-null  int64 \n",
            " 6   BlueCars_returned_sum   16085 non-null  int64 \n",
            " 7   Utilib_taken_sum        16085 non-null  int64 \n",
            " 8   Utilib_returned_sum     16085 non-null  int64 \n",
            " 9   Utilib_14_taken_sum     16085 non-null  int64 \n",
            " 10  Utilib_14_returned_sum  16085 non-null  int64 \n",
            " 11  Slots_freed_sum         16085 non-null  int64 \n",
            " 12  Slots_taken_sum         16085 non-null  int64 \n",
            "dtypes: int64(11), object(2)\n",
            "memory usage: 1.6+ MB\n"
          ],
          "name": "stdout"
        }
      ]
    },
    {
      "cell_type": "code",
      "metadata": {
        "colab": {
          "base_uri": "https://localhost:8080/",
          "height": 317
        },
        "id": "5tDu9E5t8_37",
        "outputId": "517721e9-a7d4-4cc2-c0c1-4866b893edfe"
      },
      "source": [
        "# Data descriptive statistics\n",
        "df.describe()"
      ],
      "execution_count": 5,
      "outputs": [
        {
          "output_type": "execute_result",
          "data": {
            "text/html": [
              "<div>\n",
              "<style scoped>\n",
              "    .dataframe tbody tr th:only-of-type {\n",
              "        vertical-align: middle;\n",
              "    }\n",
              "\n",
              "    .dataframe tbody tr th {\n",
              "        vertical-align: top;\n",
              "    }\n",
              "\n",
              "    .dataframe thead th {\n",
              "        text-align: right;\n",
              "    }\n",
              "</style>\n",
              "<table border=\"1\" class=\"dataframe\">\n",
              "  <thead>\n",
              "    <tr style=\"text-align: right;\">\n",
              "      <th></th>\n",
              "      <th>Postal code</th>\n",
              "      <th>n_daily_data_points</th>\n",
              "      <th>dayOfWeek</th>\n",
              "      <th>BlueCars_taken_sum</th>\n",
              "      <th>BlueCars_returned_sum</th>\n",
              "      <th>Utilib_taken_sum</th>\n",
              "      <th>Utilib_returned_sum</th>\n",
              "      <th>Utilib_14_taken_sum</th>\n",
              "      <th>Utilib_14_returned_sum</th>\n",
              "      <th>Slots_freed_sum</th>\n",
              "      <th>Slots_taken_sum</th>\n",
              "    </tr>\n",
              "  </thead>\n",
              "  <tbody>\n",
              "    <tr>\n",
              "      <th>count</th>\n",
              "      <td>16085.000000</td>\n",
              "      <td>16085.000000</td>\n",
              "      <td>16085.000000</td>\n",
              "      <td>16085.000000</td>\n",
              "      <td>16085.000000</td>\n",
              "      <td>16085.000000</td>\n",
              "      <td>16085.000000</td>\n",
              "      <td>16085.000000</td>\n",
              "      <td>16085.000000</td>\n",
              "      <td>16085.000000</td>\n",
              "      <td>16085.000000</td>\n",
              "    </tr>\n",
              "    <tr>\n",
              "      <th>mean</th>\n",
              "      <td>88791.293876</td>\n",
              "      <td>1431.330619</td>\n",
              "      <td>2.969599</td>\n",
              "      <td>125.926951</td>\n",
              "      <td>125.912714</td>\n",
              "      <td>3.698290</td>\n",
              "      <td>3.699099</td>\n",
              "      <td>8.600560</td>\n",
              "      <td>8.599192</td>\n",
              "      <td>22.629033</td>\n",
              "      <td>22.629282</td>\n",
              "    </tr>\n",
              "    <tr>\n",
              "      <th>std</th>\n",
              "      <td>7647.342000</td>\n",
              "      <td>33.212050</td>\n",
              "      <td>2.008378</td>\n",
              "      <td>185.426579</td>\n",
              "      <td>185.501535</td>\n",
              "      <td>5.815058</td>\n",
              "      <td>5.824634</td>\n",
              "      <td>12.870098</td>\n",
              "      <td>12.868993</td>\n",
              "      <td>52.120263</td>\n",
              "      <td>52.146030</td>\n",
              "    </tr>\n",
              "    <tr>\n",
              "      <th>min</th>\n",
              "      <td>75001.000000</td>\n",
              "      <td>1174.000000</td>\n",
              "      <td>0.000000</td>\n",
              "      <td>0.000000</td>\n",
              "      <td>0.000000</td>\n",
              "      <td>0.000000</td>\n",
              "      <td>0.000000</td>\n",
              "      <td>0.000000</td>\n",
              "      <td>0.000000</td>\n",
              "      <td>0.000000</td>\n",
              "      <td>0.000000</td>\n",
              "    </tr>\n",
              "    <tr>\n",
              "      <th>25%</th>\n",
              "      <td>91330.000000</td>\n",
              "      <td>1439.000000</td>\n",
              "      <td>1.000000</td>\n",
              "      <td>20.000000</td>\n",
              "      <td>20.000000</td>\n",
              "      <td>0.000000</td>\n",
              "      <td>0.000000</td>\n",
              "      <td>1.000000</td>\n",
              "      <td>1.000000</td>\n",
              "      <td>0.000000</td>\n",
              "      <td>0.000000</td>\n",
              "    </tr>\n",
              "    <tr>\n",
              "      <th>50%</th>\n",
              "      <td>92340.000000</td>\n",
              "      <td>1440.000000</td>\n",
              "      <td>3.000000</td>\n",
              "      <td>46.000000</td>\n",
              "      <td>46.000000</td>\n",
              "      <td>1.000000</td>\n",
              "      <td>1.000000</td>\n",
              "      <td>3.000000</td>\n",
              "      <td>3.000000</td>\n",
              "      <td>0.000000</td>\n",
              "      <td>0.000000</td>\n",
              "    </tr>\n",
              "    <tr>\n",
              "      <th>75%</th>\n",
              "      <td>93400.000000</td>\n",
              "      <td>1440.000000</td>\n",
              "      <td>5.000000</td>\n",
              "      <td>135.000000</td>\n",
              "      <td>135.000000</td>\n",
              "      <td>4.000000</td>\n",
              "      <td>4.000000</td>\n",
              "      <td>10.000000</td>\n",
              "      <td>10.000000</td>\n",
              "      <td>5.000000</td>\n",
              "      <td>5.000000</td>\n",
              "    </tr>\n",
              "    <tr>\n",
              "      <th>max</th>\n",
              "      <td>95880.000000</td>\n",
              "      <td>1440.000000</td>\n",
              "      <td>6.000000</td>\n",
              "      <td>1352.000000</td>\n",
              "      <td>1332.000000</td>\n",
              "      <td>54.000000</td>\n",
              "      <td>58.000000</td>\n",
              "      <td>100.000000</td>\n",
              "      <td>101.000000</td>\n",
              "      <td>360.000000</td>\n",
              "      <td>359.000000</td>\n",
              "    </tr>\n",
              "  </tbody>\n",
              "</table>\n",
              "</div>"
            ],
            "text/plain": [
              "        Postal code  n_daily_data_points  ...  Slots_freed_sum  Slots_taken_sum\n",
              "count  16085.000000         16085.000000  ...     16085.000000     16085.000000\n",
              "mean   88791.293876          1431.330619  ...        22.629033        22.629282\n",
              "std     7647.342000            33.212050  ...        52.120263        52.146030\n",
              "min    75001.000000          1174.000000  ...         0.000000         0.000000\n",
              "25%    91330.000000          1439.000000  ...         0.000000         0.000000\n",
              "50%    92340.000000          1440.000000  ...         0.000000         0.000000\n",
              "75%    93400.000000          1440.000000  ...         5.000000         5.000000\n",
              "max    95880.000000          1440.000000  ...       360.000000       359.000000\n",
              "\n",
              "[8 rows x 11 columns]"
            ]
          },
          "metadata": {
            "tags": []
          },
          "execution_count": 5
        }
      ]
    },
    {
      "cell_type": "code",
      "metadata": {
        "colab": {
          "base_uri": "https://localhost:8080/"
        },
        "id": "oaffvYHn97Jk",
        "outputId": "7d0d7788-ce27-439d-820d-3c3b5a9892b8"
      },
      "source": [
        "# Check for unique values \n",
        "df.nunique()"
      ],
      "execution_count": 6,
      "outputs": [
        {
          "output_type": "execute_result",
          "data": {
            "text/plain": [
              "Postal code               104\n",
              "date                      156\n",
              "n_daily_data_points        23\n",
              "dayOfWeek                   7\n",
              "day_type                    2\n",
              "BlueCars_taken_sum        932\n",
              "BlueCars_returned_sum     929\n",
              "Utilib_taken_sum           48\n",
              "Utilib_returned_sum        49\n",
              "Utilib_14_taken_sum        92\n",
              "Utilib_14_returned_sum     94\n",
              "Slots_freed_sum           297\n",
              "Slots_taken_sum           301\n",
              "dtype: int64"
            ]
          },
          "metadata": {
            "tags": []
          },
          "execution_count": 6
        }
      ]
    },
    {
      "cell_type": "markdown",
      "metadata": {
        "id": "2rRAg7M0-SK_"
      },
      "source": [
        "# Data Cleaning"
      ]
    },
    {
      "cell_type": "code",
      "metadata": {
        "colab": {
          "base_uri": "https://localhost:8080/"
        },
        "id": "MHchnDPC-Q54",
        "outputId": "a5bd6b5b-c242-4ac2-86f6-499c1ff3b67b"
      },
      "source": [
        "# Check for missing values\n",
        "df.isnull().count()\n",
        "\n",
        "# no null values"
      ],
      "execution_count": 7,
      "outputs": [
        {
          "output_type": "execute_result",
          "data": {
            "text/plain": [
              "Postal code               16085\n",
              "date                      16085\n",
              "n_daily_data_points       16085\n",
              "dayOfWeek                 16085\n",
              "day_type                  16085\n",
              "BlueCars_taken_sum        16085\n",
              "BlueCars_returned_sum     16085\n",
              "Utilib_taken_sum          16085\n",
              "Utilib_returned_sum       16085\n",
              "Utilib_14_taken_sum       16085\n",
              "Utilib_14_returned_sum    16085\n",
              "Slots_freed_sum           16085\n",
              "Slots_taken_sum           16085\n",
              "dtype: int64"
            ]
          },
          "metadata": {
            "tags": []
          },
          "execution_count": 7
        }
      ]
    },
    {
      "cell_type": "code",
      "metadata": {
        "colab": {
          "base_uri": "https://localhost:8080/"
        },
        "id": "C2CboMlH-i6p",
        "outputId": "5bd4c253-a218-41f5-9da5-cd2baab91e27"
      },
      "source": [
        "# Check for duplicates and drop any duplicates in the dataset\n",
        "df.duplicated().value_counts()\n",
        "# No duplicates"
      ],
      "execution_count": 8,
      "outputs": [
        {
          "output_type": "execute_result",
          "data": {
            "text/plain": [
              "False    16085\n",
              "dtype: int64"
            ]
          },
          "metadata": {
            "tags": []
          },
          "execution_count": 8
        }
      ]
    },
    {
      "cell_type": "code",
      "metadata": {
        "colab": {
          "base_uri": "https://localhost:8080/"
        },
        "id": "yEwm8rMW_yVz",
        "outputId": "ff75dd7d-6fda-4157-e305-0d9a4e94403b"
      },
      "source": [
        "# change column names to lower case and rename columns\n",
        "df.columns = map(str.lower, df.columns)\n",
        "\n",
        "#rename\n",
        "df.columns = df.columns.str.rstrip('_sum')\n",
        "df.rename(columns={'dayofweek':'day_week'},inplace=True)\n",
        "df.columns"
      ],
      "execution_count": 9,
      "outputs": [
        {
          "output_type": "execute_result",
          "data": {
            "text/plain": [
              "Index(['postal code', 'date', 'n_daily_data_point', 'day_week', 'day_type',\n",
              "       'bluecars_taken', 'bluecars_returned', 'utilib_taken',\n",
              "       'utilib_returned', 'utilib_14_taken', 'utilib_14_returned',\n",
              "       'slots_freed', 'slots_taken'],\n",
              "      dtype='object')"
            ]
          },
          "metadata": {
            "tags": []
          },
          "execution_count": 9
        }
      ]
    },
    {
      "cell_type": "code",
      "metadata": {
        "colab": {
          "base_uri": "https://localhost:8080/",
          "height": 419
        },
        "id": "3GoUylXc_ycc",
        "outputId": "81339162-d15f-49bb-cc1a-1f627929f365"
      },
      "source": [
        "# Drop unneeded columns\n",
        "df.drop(columns=['postal code','n_daily_data_point','utilib_taken', 'utilib_returned',\n",
        "       'utilib_14_taken', 'utilib_14_returned', 'slots_freed', 'slots_taken'],inplace=True)\n",
        "df"
      ],
      "execution_count": 10,
      "outputs": [
        {
          "output_type": "execute_result",
          "data": {
            "text/html": [
              "<div>\n",
              "<style scoped>\n",
              "    .dataframe tbody tr th:only-of-type {\n",
              "        vertical-align: middle;\n",
              "    }\n",
              "\n",
              "    .dataframe tbody tr th {\n",
              "        vertical-align: top;\n",
              "    }\n",
              "\n",
              "    .dataframe thead th {\n",
              "        text-align: right;\n",
              "    }\n",
              "</style>\n",
              "<table border=\"1\" class=\"dataframe\">\n",
              "  <thead>\n",
              "    <tr style=\"text-align: right;\">\n",
              "      <th></th>\n",
              "      <th>date</th>\n",
              "      <th>day_week</th>\n",
              "      <th>day_type</th>\n",
              "      <th>bluecars_taken</th>\n",
              "      <th>bluecars_returned</th>\n",
              "    </tr>\n",
              "  </thead>\n",
              "  <tbody>\n",
              "    <tr>\n",
              "      <th>0</th>\n",
              "      <td>1/1/2018</td>\n",
              "      <td>0</td>\n",
              "      <td>weekday</td>\n",
              "      <td>110</td>\n",
              "      <td>103</td>\n",
              "    </tr>\n",
              "    <tr>\n",
              "      <th>1</th>\n",
              "      <td>1/2/2018</td>\n",
              "      <td>1</td>\n",
              "      <td>weekday</td>\n",
              "      <td>98</td>\n",
              "      <td>94</td>\n",
              "    </tr>\n",
              "    <tr>\n",
              "      <th>2</th>\n",
              "      <td>1/3/2018</td>\n",
              "      <td>2</td>\n",
              "      <td>weekday</td>\n",
              "      <td>138</td>\n",
              "      <td>139</td>\n",
              "    </tr>\n",
              "    <tr>\n",
              "      <th>3</th>\n",
              "      <td>1/4/2018</td>\n",
              "      <td>3</td>\n",
              "      <td>weekday</td>\n",
              "      <td>104</td>\n",
              "      <td>104</td>\n",
              "    </tr>\n",
              "    <tr>\n",
              "      <th>4</th>\n",
              "      <td>1/5/2018</td>\n",
              "      <td>4</td>\n",
              "      <td>weekday</td>\n",
              "      <td>114</td>\n",
              "      <td>117</td>\n",
              "    </tr>\n",
              "    <tr>\n",
              "      <th>...</th>\n",
              "      <td>...</td>\n",
              "      <td>...</td>\n",
              "      <td>...</td>\n",
              "      <td>...</td>\n",
              "      <td>...</td>\n",
              "    </tr>\n",
              "    <tr>\n",
              "      <th>16080</th>\n",
              "      <td>6/15/2018</td>\n",
              "      <td>4</td>\n",
              "      <td>weekday</td>\n",
              "      <td>15</td>\n",
              "      <td>10</td>\n",
              "    </tr>\n",
              "    <tr>\n",
              "      <th>16081</th>\n",
              "      <td>6/16/2018</td>\n",
              "      <td>5</td>\n",
              "      <td>weekend</td>\n",
              "      <td>19</td>\n",
              "      <td>19</td>\n",
              "    </tr>\n",
              "    <tr>\n",
              "      <th>16082</th>\n",
              "      <td>6/17/2018</td>\n",
              "      <td>6</td>\n",
              "      <td>weekend</td>\n",
              "      <td>33</td>\n",
              "      <td>35</td>\n",
              "    </tr>\n",
              "    <tr>\n",
              "      <th>16083</th>\n",
              "      <td>6/18/2018</td>\n",
              "      <td>0</td>\n",
              "      <td>weekday</td>\n",
              "      <td>11</td>\n",
              "      <td>14</td>\n",
              "    </tr>\n",
              "    <tr>\n",
              "      <th>16084</th>\n",
              "      <td>6/19/2018</td>\n",
              "      <td>1</td>\n",
              "      <td>weekday</td>\n",
              "      <td>2</td>\n",
              "      <td>2</td>\n",
              "    </tr>\n",
              "  </tbody>\n",
              "</table>\n",
              "<p>16085 rows × 5 columns</p>\n",
              "</div>"
            ],
            "text/plain": [
              "            date  day_week day_type  bluecars_taken  bluecars_returned\n",
              "0       1/1/2018         0  weekday             110                103\n",
              "1       1/2/2018         1  weekday              98                 94\n",
              "2       1/3/2018         2  weekday             138                139\n",
              "3       1/4/2018         3  weekday             104                104\n",
              "4       1/5/2018         4  weekday             114                117\n",
              "...          ...       ...      ...             ...                ...\n",
              "16080  6/15/2018         4  weekday              15                 10\n",
              "16081  6/16/2018         5  weekend              19                 19\n",
              "16082  6/17/2018         6  weekend              33                 35\n",
              "16083  6/18/2018         0  weekday              11                 14\n",
              "16084  6/19/2018         1  weekday               2                  2\n",
              "\n",
              "[16085 rows x 5 columns]"
            ]
          },
          "metadata": {
            "tags": []
          },
          "execution_count": 10
        }
      ]
    },
    {
      "cell_type": "code",
      "metadata": {
        "colab": {
          "base_uri": "https://localhost:8080/"
        },
        "id": "Dxpd7VV1Dw7R",
        "outputId": "ec3ad202-c7aa-4456-9ab8-e2f5f06f656c"
      },
      "source": [
        "# Change date column into datetime data type\n",
        "df['date']=pd.to_datetime(df['date'])\n",
        "df['day_week']=df['day_week'].astype(str)\n",
        "df.info()\n",
        "# Shape is (16085 rows, 6 columns)"
      ],
      "execution_count": 11,
      "outputs": [
        {
          "output_type": "stream",
          "text": [
            "<class 'pandas.core.frame.DataFrame'>\n",
            "RangeIndex: 16085 entries, 0 to 16084\n",
            "Data columns (total 5 columns):\n",
            " #   Column             Non-Null Count  Dtype         \n",
            "---  ------             --------------  -----         \n",
            " 0   date               16085 non-null  datetime64[ns]\n",
            " 1   day_week           16085 non-null  object        \n",
            " 2   day_type           16085 non-null  object        \n",
            " 3   bluecars_taken     16085 non-null  int64         \n",
            " 4   bluecars_returned  16085 non-null  int64         \n",
            "dtypes: datetime64[ns](1), int64(2), object(2)\n",
            "memory usage: 628.4+ KB\n"
          ],
          "name": "stdout"
        }
      ]
    },
    {
      "cell_type": "code",
      "metadata": {
        "colab": {
          "base_uri": "https://localhost:8080/",
          "height": 299
        },
        "id": "tI45658aD6MT",
        "outputId": "9dbba077-9daa-4490-884c-68c4a522022a"
      },
      "source": [
        "# Checking for outliers\n",
        "\n",
        "df.boxplot()\n",
        "plt.ylabel('Frequency')\n",
        "plt.title('Boxplot of Bluecars taken & Bluecars returned')"
      ],
      "execution_count": 12,
      "outputs": [
        {
          "output_type": "execute_result",
          "data": {
            "text/plain": [
              "Text(0.5, 1.0, 'Boxplot of Bluecars taken & Bluecars returned')"
            ]
          },
          "metadata": {
            "tags": []
          },
          "execution_count": 12
        },
        {
          "output_type": "display_data",
          "data": {
            "image/png": "[encoded data removed]",
            "text/plain": [
              "<Figure size 432x288 with 1 Axes>"
            ]
          },
          "metadata": {
            "tags": [],
            "needs_background": "light"
          }
        }
      ]
    },
    {
      "cell_type": "code",
      "metadata": {
        "id": "_czSDpYAGrPe"
      },
      "source": [
        "# remove outliers if any are present using the interquartile range\n",
        "Q1 = df.quantile(0.25)\n",
        "Q3 = df.quantile(0.75)\n",
        "IQR = Q3 - Q1\n",
        "\n",
        "df[['bluecars_taken','bluecars_returned']]= df[['bluecars_taken','bluecars_returned']][~((df[['bluecars_taken','bluecars_returned']] < (Q1 - 1.5 * IQR)) |(df[['bluecars_taken','bluecars_returned']] > (Q3 + 1.5 * IQR))).any(axis=1)]"
      ],
      "execution_count": 13,
      "outputs": []
    },
    {
      "cell_type": "code",
      "metadata": {
        "colab": {
          "base_uri": "https://localhost:8080/"
        },
        "id": "x2APLVdpHAT1",
        "outputId": "1e6ae468-df74-47cd-c8b5-64543de934ed"
      },
      "source": [
        "df.isnull().value_counts()\n",
        "# drop null values\n",
        "df.dropna(axis=0,inplace=True)\n",
        "\n",
        "df.shape"
      ],
      "execution_count": 14,
      "outputs": [
        {
          "output_type": "execute_result",
          "data": {
            "text/plain": [
              "(13826, 5)"
            ]
          },
          "metadata": {
            "tags": []
          },
          "execution_count": 14
        }
      ]
    },
    {
      "cell_type": "code",
      "metadata": {
        "colab": {
          "base_uri": "https://localhost:8080/",
          "height": 419
        },
        "id": "If6hlufRTMDs",
        "outputId": "be1b5477-816c-49fb-924b-da9b53515cdc"
      },
      "source": [
        "df"
      ],
      "execution_count": 15,
      "outputs": [
        {
          "output_type": "execute_result",
          "data": {
            "text/html": [
              "<div>\n",
              "<style scoped>\n",
              "    .dataframe tbody tr th:only-of-type {\n",
              "        vertical-align: middle;\n",
              "    }\n",
              "\n",
              "    .dataframe tbody tr th {\n",
              "        vertical-align: top;\n",
              "    }\n",
              "\n",
              "    .dataframe thead th {\n",
              "        text-align: right;\n",
              "    }\n",
              "</style>\n",
              "<table border=\"1\" class=\"dataframe\">\n",
              "  <thead>\n",
              "    <tr style=\"text-align: right;\">\n",
              "      <th></th>\n",
              "      <th>date</th>\n",
              "      <th>day_week</th>\n",
              "      <th>day_type</th>\n",
              "      <th>bluecars_taken</th>\n",
              "      <th>bluecars_returned</th>\n",
              "    </tr>\n",
              "  </thead>\n",
              "  <tbody>\n",
              "    <tr>\n",
              "      <th>0</th>\n",
              "      <td>2018-01-01</td>\n",
              "      <td>0</td>\n",
              "      <td>weekday</td>\n",
              "      <td>110.0</td>\n",
              "      <td>103.0</td>\n",
              "    </tr>\n",
              "    <tr>\n",
              "      <th>1</th>\n",
              "      <td>2018-01-02</td>\n",
              "      <td>1</td>\n",
              "      <td>weekday</td>\n",
              "      <td>98.0</td>\n",
              "      <td>94.0</td>\n",
              "    </tr>\n",
              "    <tr>\n",
              "      <th>2</th>\n",
              "      <td>2018-01-03</td>\n",
              "      <td>2</td>\n",
              "      <td>weekday</td>\n",
              "      <td>138.0</td>\n",
              "      <td>139.0</td>\n",
              "    </tr>\n",
              "    <tr>\n",
              "      <th>3</th>\n",
              "      <td>2018-01-04</td>\n",
              "      <td>3</td>\n",
              "      <td>weekday</td>\n",
              "      <td>104.0</td>\n",
              "      <td>104.0</td>\n",
              "    </tr>\n",
              "    <tr>\n",
              "      <th>4</th>\n",
              "      <td>2018-01-05</td>\n",
              "      <td>4</td>\n",
              "      <td>weekday</td>\n",
              "      <td>114.0</td>\n",
              "      <td>117.0</td>\n",
              "    </tr>\n",
              "    <tr>\n",
              "      <th>...</th>\n",
              "      <td>...</td>\n",
              "      <td>...</td>\n",
              "      <td>...</td>\n",
              "      <td>...</td>\n",
              "      <td>...</td>\n",
              "    </tr>\n",
              "    <tr>\n",
              "      <th>16080</th>\n",
              "      <td>2018-06-15</td>\n",
              "      <td>4</td>\n",
              "      <td>weekday</td>\n",
              "      <td>15.0</td>\n",
              "      <td>10.0</td>\n",
              "    </tr>\n",
              "    <tr>\n",
              "      <th>16081</th>\n",
              "      <td>2018-06-16</td>\n",
              "      <td>5</td>\n",
              "      <td>weekend</td>\n",
              "      <td>19.0</td>\n",
              "      <td>19.0</td>\n",
              "    </tr>\n",
              "    <tr>\n",
              "      <th>16082</th>\n",
              "      <td>2018-06-17</td>\n",
              "      <td>6</td>\n",
              "      <td>weekend</td>\n",
              "      <td>33.0</td>\n",
              "      <td>35.0</td>\n",
              "    </tr>\n",
              "    <tr>\n",
              "      <th>16083</th>\n",
              "      <td>2018-06-18</td>\n",
              "      <td>0</td>\n",
              "      <td>weekday</td>\n",
              "      <td>11.0</td>\n",
              "      <td>14.0</td>\n",
              "    </tr>\n",
              "    <tr>\n",
              "      <th>16084</th>\n",
              "      <td>2018-06-19</td>\n",
              "      <td>1</td>\n",
              "      <td>weekday</td>\n",
              "      <td>2.0</td>\n",
              "      <td>2.0</td>\n",
              "    </tr>\n",
              "  </tbody>\n",
              "</table>\n",
              "<p>13826 rows × 5 columns</p>\n",
              "</div>"
            ],
            "text/plain": [
              "            date day_week day_type  bluecars_taken  bluecars_returned\n",
              "0     2018-01-01        0  weekday           110.0              103.0\n",
              "1     2018-01-02        1  weekday            98.0               94.0\n",
              "2     2018-01-03        2  weekday           138.0              139.0\n",
              "3     2018-01-04        3  weekday           104.0              104.0\n",
              "4     2018-01-05        4  weekday           114.0              117.0\n",
              "...          ...      ...      ...             ...                ...\n",
              "16080 2018-06-15        4  weekday            15.0               10.0\n",
              "16081 2018-06-16        5  weekend            19.0               19.0\n",
              "16082 2018-06-17        6  weekend            33.0               35.0\n",
              "16083 2018-06-18        0  weekday            11.0               14.0\n",
              "16084 2018-06-19        1  weekday             2.0                2.0\n",
              "\n",
              "[13826 rows x 5 columns]"
            ]
          },
          "metadata": {
            "tags": []
          },
          "execution_count": 15
        }
      ]
    },
    {
      "cell_type": "markdown",
      "metadata": {
        "id": "Vj5BMxmaHi-g"
      },
      "source": [
        "# Exploratory Analysis\n"
      ]
    },
    {
      "cell_type": "markdown",
      "metadata": {
        "id": "PhdMtGLIHtmB"
      },
      "source": [
        "## Univariate Analysis"
      ]
    },
    {
      "cell_type": "code",
      "metadata": {
        "colab": {
          "base_uri": "https://localhost:8080/",
          "height": 297
        },
        "id": "zuFC2DoeHs1I",
        "outputId": "369a6d98-74c3-44af-b7e0-e0033594458b"
      },
      "source": [
        "# Check Means of central tendency (mean, median, mode)\n",
        "# Blue car\n",
        "bluecar=df[['bluecars_taken','bluecars_returned']]\n",
        "bluecar.describe()"
      ],
      "execution_count": 16,
      "outputs": [
        {
          "output_type": "execute_result",
          "data": {
            "text/html": [
              "<div>\n",
              "<style scoped>\n",
              "    .dataframe tbody tr th:only-of-type {\n",
              "        vertical-align: middle;\n",
              "    }\n",
              "\n",
              "    .dataframe tbody tr th {\n",
              "        vertical-align: top;\n",
              "    }\n",
              "\n",
              "    .dataframe thead th {\n",
              "        text-align: right;\n",
              "    }\n",
              "</style>\n",
              "<table border=\"1\" class=\"dataframe\">\n",
              "  <thead>\n",
              "    <tr style=\"text-align: right;\">\n",
              "      <th></th>\n",
              "      <th>bluecars_taken</th>\n",
              "      <th>bluecars_returned</th>\n",
              "    </tr>\n",
              "  </thead>\n",
              "  <tbody>\n",
              "    <tr>\n",
              "      <th>count</th>\n",
              "      <td>13826.000000</td>\n",
              "      <td>13826.000000</td>\n",
              "    </tr>\n",
              "    <tr>\n",
              "      <th>mean</th>\n",
              "      <td>61.078403</td>\n",
              "      <td>61.027846</td>\n",
              "    </tr>\n",
              "    <tr>\n",
              "      <th>std</th>\n",
              "      <td>65.248846</td>\n",
              "      <td>64.960126</td>\n",
              "    </tr>\n",
              "    <tr>\n",
              "      <th>min</th>\n",
              "      <td>0.000000</td>\n",
              "      <td>0.000000</td>\n",
              "    </tr>\n",
              "    <tr>\n",
              "      <th>25%</th>\n",
              "      <td>17.000000</td>\n",
              "      <td>17.000000</td>\n",
              "    </tr>\n",
              "    <tr>\n",
              "      <th>50%</th>\n",
              "      <td>37.000000</td>\n",
              "      <td>37.000000</td>\n",
              "    </tr>\n",
              "    <tr>\n",
              "      <th>75%</th>\n",
              "      <td>80.000000</td>\n",
              "      <td>80.000000</td>\n",
              "    </tr>\n",
              "    <tr>\n",
              "      <th>max</th>\n",
              "      <td>307.000000</td>\n",
              "      <td>306.000000</td>\n",
              "    </tr>\n",
              "  </tbody>\n",
              "</table>\n",
              "</div>"
            ],
            "text/plain": [
              "       bluecars_taken  bluecars_returned\n",
              "count    13826.000000       13826.000000\n",
              "mean        61.078403          61.027846\n",
              "std         65.248846          64.960126\n",
              "min          0.000000           0.000000\n",
              "25%         17.000000          17.000000\n",
              "50%         37.000000          37.000000\n",
              "75%         80.000000          80.000000\n",
              "max        307.000000         306.000000"
            ]
          },
          "metadata": {
            "tags": []
          },
          "execution_count": 16
        }
      ]
    },
    {
      "cell_type": "code",
      "metadata": {
        "colab": {
          "base_uri": "https://localhost:8080/"
        },
        "id": "9c1XofoFVNcx",
        "outputId": "1311de13-9ce7-4160-eab6-36a63c62fd51"
      },
      "source": [
        "# Quartiles, interquartile range\n",
        "quantiles = df.quantile([0.25,0.5,0.75])\n",
        "print(quantiles)"
      ],
      "execution_count": 17,
      "outputs": [
        {
          "output_type": "stream",
          "text": [
            "      bluecars_taken  bluecars_returned\n",
            "0.25            17.0               17.0\n",
            "0.50            37.0               37.0\n",
            "0.75            80.0               80.0\n"
          ],
          "name": "stdout"
        }
      ]
    },
    {
      "cell_type": "code",
      "metadata": {
        "colab": {
          "base_uri": "https://localhost:8080/"
        },
        "id": "xBoYGQAFUuxb",
        "outputId": "98bc93e0-90c6-49b5-b551-79de72431f9d"
      },
      "source": [
        "# Check for skewness and kurtosis\n",
        "skew=bluecar.skew()\n",
        "print('Skewness: ')\n",
        "print(skew)\n",
        "print('******************************')\n",
        "kurt=bluecar.kurt()\n",
        "print('Kurtosis: ')\n",
        "print(kurt)"
      ],
      "execution_count": 18,
      "outputs": [
        {
          "output_type": "stream",
          "text": [
            "Skewness: \n",
            "bluecars_taken       1.791791\n",
            "bluecars_returned    1.793672\n",
            "dtype: float64\n",
            "******************************\n",
            "Kurtosis: \n",
            "bluecars_taken       2.819063\n",
            "bluecars_returned    2.819947\n",
            "dtype: float64\n"
          ],
          "name": "stdout"
        }
      ]
    },
    {
      "cell_type": "code",
      "metadata": {
        "colab": {
          "base_uri": "https://localhost:8080/",
          "height": 293
        },
        "id": "mjQEKg69Oo5R",
        "outputId": "1fa58529-6a3d-4ff0-f068-209190a36690"
      },
      "source": [
        "# Check frequency of day of the week\n",
        "day=df['day_week'].value_counts()\n",
        "day.plot.bar()\n",
        "plt.xlabel('Days of the week')\n",
        "plt.ylabel('Frequency')\n"
      ],
      "execution_count": 19,
      "outputs": [
        {
          "output_type": "execute_result",
          "data": {
            "text/plain": [
              "Text(0, 0.5, 'Frequency')"
            ]
          },
          "metadata": {
            "tags": []
          },
          "execution_count": 19
        },
        {
          "output_type": "display_data",
          "data": {
            "image/png": "[encoded data removed]",
            "text/plain": [
              "<Figure size 432x288 with 1 Axes>"
            ]
          },
          "metadata": {
            "tags": [],
            "needs_background": "light"
          }
        }
      ]
    },
    {
      "cell_type": "markdown",
      "metadata": {
        "id": "NjV4er1gV2hL"
      },
      "source": [
        "\n",
        "\n",
        "   1. The number of Bluecars taken and that returned seems to have a relationship. The mean, mode and Median numbers of cars taken and those returned is practically the same.\n",
        "\n",
        "   2. Both distributions (Bluecars taken and Bluecars returned) are highly skewed to the right.\n"
      ]
    },
    {
      "cell_type": "code",
      "metadata": {
        "colab": {
          "base_uri": "https://localhost:8080/",
          "height": 142
        },
        "id": "PcI3xee1Xa7d",
        "outputId": "b0dd223f-1295-49c2-c83f-450a4c25fc60"
      },
      "source": [
        "# Median\n",
        "df1=df.groupby('day_type')\n",
        "df1.median()\n"
      ],
      "execution_count": 20,
      "outputs": [
        {
          "output_type": "execute_result",
          "data": {
            "text/html": [
              "<div>\n",
              "<style scoped>\n",
              "    .dataframe tbody tr th:only-of-type {\n",
              "        vertical-align: middle;\n",
              "    }\n",
              "\n",
              "    .dataframe tbody tr th {\n",
              "        vertical-align: top;\n",
              "    }\n",
              "\n",
              "    .dataframe thead th {\n",
              "        text-align: right;\n",
              "    }\n",
              "</style>\n",
              "<table border=\"1\" class=\"dataframe\">\n",
              "  <thead>\n",
              "    <tr style=\"text-align: right;\">\n",
              "      <th></th>\n",
              "      <th>bluecars_taken</th>\n",
              "      <th>bluecars_returned</th>\n",
              "    </tr>\n",
              "    <tr>\n",
              "      <th>day_type</th>\n",
              "      <th></th>\n",
              "      <th></th>\n",
              "    </tr>\n",
              "  </thead>\n",
              "  <tbody>\n",
              "    <tr>\n",
              "      <th>weekday</th>\n",
              "      <td>34.0</td>\n",
              "      <td>35.0</td>\n",
              "    </tr>\n",
              "    <tr>\n",
              "      <th>weekend</th>\n",
              "      <td>45.0</td>\n",
              "      <td>44.0</td>\n",
              "    </tr>\n",
              "  </tbody>\n",
              "</table>\n",
              "</div>"
            ],
            "text/plain": [
              "          bluecars_taken  bluecars_returned\n",
              "day_type                                   \n",
              "weekday             34.0               35.0\n",
              "weekend             45.0               44.0"
            ]
          },
          "metadata": {
            "tags": []
          },
          "execution_count": 20
        }
      ]
    },
    {
      "cell_type": "code",
      "metadata": {
        "colab": {
          "base_uri": "https://localhost:8080/",
          "height": 297
        },
        "id": "oB84ZhZxJo1D",
        "outputId": "423bd6bc-bddb-42bb-9310-a67e9ace90d0"
      },
      "source": [
        "# Describe data per day type. This also puts the dataset into strata\n",
        "# weekend\n",
        "weekend=df[df['day_type']=='weekend']\n",
        "weekend.describe()\n",
        "\n",
        "# The dataset statistics are similar between the two variables"
      ],
      "execution_count": 21,
      "outputs": [
        {
          "output_type": "execute_result",
          "data": {
            "text/html": [
              "<div>\n",
              "<style scoped>\n",
              "    .dataframe tbody tr th:only-of-type {\n",
              "        vertical-align: middle;\n",
              "    }\n",
              "\n",
              "    .dataframe tbody tr th {\n",
              "        vertical-align: top;\n",
              "    }\n",
              "\n",
              "    .dataframe thead th {\n",
              "        text-align: right;\n",
              "    }\n",
              "</style>\n",
              "<table border=\"1\" class=\"dataframe\">\n",
              "  <thead>\n",
              "    <tr style=\"text-align: right;\">\n",
              "      <th></th>\n",
              "      <th>bluecars_taken</th>\n",
              "      <th>bluecars_returned</th>\n",
              "    </tr>\n",
              "  </thead>\n",
              "  <tbody>\n",
              "    <tr>\n",
              "      <th>count</th>\n",
              "      <td>3780.000000</td>\n",
              "      <td>3780.000000</td>\n",
              "    </tr>\n",
              "    <tr>\n",
              "      <th>mean</th>\n",
              "      <td>65.600794</td>\n",
              "      <td>65.321693</td>\n",
              "    </tr>\n",
              "    <tr>\n",
              "      <th>std</th>\n",
              "      <td>62.741907</td>\n",
              "      <td>63.358368</td>\n",
              "    </tr>\n",
              "    <tr>\n",
              "      <th>min</th>\n",
              "      <td>0.000000</td>\n",
              "      <td>0.000000</td>\n",
              "    </tr>\n",
              "    <tr>\n",
              "      <th>25%</th>\n",
              "      <td>21.000000</td>\n",
              "      <td>20.000000</td>\n",
              "    </tr>\n",
              "    <tr>\n",
              "      <th>50%</th>\n",
              "      <td>45.000000</td>\n",
              "      <td>44.000000</td>\n",
              "    </tr>\n",
              "    <tr>\n",
              "      <th>75%</th>\n",
              "      <td>88.250000</td>\n",
              "      <td>88.000000</td>\n",
              "    </tr>\n",
              "    <tr>\n",
              "      <th>max</th>\n",
              "      <td>307.000000</td>\n",
              "      <td>306.000000</td>\n",
              "    </tr>\n",
              "  </tbody>\n",
              "</table>\n",
              "</div>"
            ],
            "text/plain": [
              "       bluecars_taken  bluecars_returned\n",
              "count     3780.000000        3780.000000\n",
              "mean        65.600794          65.321693\n",
              "std         62.741907          63.358368\n",
              "min          0.000000           0.000000\n",
              "25%         21.000000          20.000000\n",
              "50%         45.000000          44.000000\n",
              "75%         88.250000          88.000000\n",
              "max        307.000000         306.000000"
            ]
          },
          "metadata": {
            "tags": []
          },
          "execution_count": 21
        }
      ]
    },
    {
      "cell_type": "code",
      "metadata": {
        "colab": {
          "base_uri": "https://localhost:8080/",
          "height": 297
        },
        "id": "gsLbQ-hoXKNp",
        "outputId": "a9085517-aff4-4643-fbc6-07db50d542ee"
      },
      "source": [
        "# weekday data\n",
        "\n",
        "weekday=df[df['day_type']=='weekday']\n",
        "weekday.describe()"
      ],
      "execution_count": 22,
      "outputs": [
        {
          "output_type": "execute_result",
          "data": {
            "text/html": [
              "<div>\n",
              "<style scoped>\n",
              "    .dataframe tbody tr th:only-of-type {\n",
              "        vertical-align: middle;\n",
              "    }\n",
              "\n",
              "    .dataframe tbody tr th {\n",
              "        vertical-align: top;\n",
              "    }\n",
              "\n",
              "    .dataframe thead th {\n",
              "        text-align: right;\n",
              "    }\n",
              "</style>\n",
              "<table border=\"1\" class=\"dataframe\">\n",
              "  <thead>\n",
              "    <tr style=\"text-align: right;\">\n",
              "      <th></th>\n",
              "      <th>bluecars_taken</th>\n",
              "      <th>bluecars_returned</th>\n",
              "    </tr>\n",
              "  </thead>\n",
              "  <tbody>\n",
              "    <tr>\n",
              "      <th>count</th>\n",
              "      <td>10046.000000</td>\n",
              "      <td>10046.000000</td>\n",
              "    </tr>\n",
              "    <tr>\n",
              "      <th>mean</th>\n",
              "      <td>59.376767</td>\n",
              "      <td>59.412204</td>\n",
              "    </tr>\n",
              "    <tr>\n",
              "      <th>std</th>\n",
              "      <td>66.090508</td>\n",
              "      <td>65.482924</td>\n",
              "    </tr>\n",
              "    <tr>\n",
              "      <th>min</th>\n",
              "      <td>0.000000</td>\n",
              "      <td>0.000000</td>\n",
              "    </tr>\n",
              "    <tr>\n",
              "      <th>25%</th>\n",
              "      <td>16.000000</td>\n",
              "      <td>16.000000</td>\n",
              "    </tr>\n",
              "    <tr>\n",
              "      <th>50%</th>\n",
              "      <td>34.000000</td>\n",
              "      <td>35.000000</td>\n",
              "    </tr>\n",
              "    <tr>\n",
              "      <th>75%</th>\n",
              "      <td>76.000000</td>\n",
              "      <td>75.000000</td>\n",
              "    </tr>\n",
              "    <tr>\n",
              "      <th>max</th>\n",
              "      <td>307.000000</td>\n",
              "      <td>306.000000</td>\n",
              "    </tr>\n",
              "  </tbody>\n",
              "</table>\n",
              "</div>"
            ],
            "text/plain": [
              "       bluecars_taken  bluecars_returned\n",
              "count    10046.000000       10046.000000\n",
              "mean        59.376767          59.412204\n",
              "std         66.090508          65.482924\n",
              "min          0.000000           0.000000\n",
              "25%         16.000000          16.000000\n",
              "50%         34.000000          35.000000\n",
              "75%         76.000000          75.000000\n",
              "max        307.000000         306.000000"
            ]
          },
          "metadata": {
            "tags": []
          },
          "execution_count": 22
        }
      ]
    },
    {
      "cell_type": "code",
      "metadata": {
        "colab": {
          "base_uri": "https://localhost:8080/",
          "height": 142
        },
        "id": "H6NxB_fOcqo1",
        "outputId": "be7e25ed-9c8f-43df-bb91-4befef42ef77"
      },
      "source": [
        "# frequency tables\n",
        "df1=df.groupby('day_type')\n",
        "df1.mean()\n"
      ],
      "execution_count": 23,
      "outputs": [
        {
          "output_type": "execute_result",
          "data": {
            "text/html": [
              "<div>\n",
              "<style scoped>\n",
              "    .dataframe tbody tr th:only-of-type {\n",
              "        vertical-align: middle;\n",
              "    }\n",
              "\n",
              "    .dataframe tbody tr th {\n",
              "        vertical-align: top;\n",
              "    }\n",
              "\n",
              "    .dataframe thead th {\n",
              "        text-align: right;\n",
              "    }\n",
              "</style>\n",
              "<table border=\"1\" class=\"dataframe\">\n",
              "  <thead>\n",
              "    <tr style=\"text-align: right;\">\n",
              "      <th></th>\n",
              "      <th>bluecars_taken</th>\n",
              "      <th>bluecars_returned</th>\n",
              "    </tr>\n",
              "    <tr>\n",
              "      <th>day_type</th>\n",
              "      <th></th>\n",
              "      <th></th>\n",
              "    </tr>\n",
              "  </thead>\n",
              "  <tbody>\n",
              "    <tr>\n",
              "      <th>weekday</th>\n",
              "      <td>59.376767</td>\n",
              "      <td>59.412204</td>\n",
              "    </tr>\n",
              "    <tr>\n",
              "      <th>weekend</th>\n",
              "      <td>65.600794</td>\n",
              "      <td>65.321693</td>\n",
              "    </tr>\n",
              "  </tbody>\n",
              "</table>\n",
              "</div>"
            ],
            "text/plain": [
              "          bluecars_taken  bluecars_returned\n",
              "day_type                                   \n",
              "weekday        59.376767          59.412204\n",
              "weekend        65.600794          65.321693"
            ]
          },
          "metadata": {
            "tags": []
          },
          "execution_count": 23
        }
      ]
    },
    {
      "cell_type": "code",
      "metadata": {
        "colab": {
          "base_uri": "https://localhost:8080/",
          "height": 142
        },
        "id": "ubRsAQ4VWUNH",
        "outputId": "35fcc42e-f8f3-42d8-f6b3-a149b0895019"
      },
      "source": [
        "# Standard deviation\n",
        "# frequency tables\n",
        "df1=df.groupby('day_type')\n",
        "df1.std()"
      ],
      "execution_count": 24,
      "outputs": [
        {
          "output_type": "execute_result",
          "data": {
            "text/html": [
              "<div>\n",
              "<style scoped>\n",
              "    .dataframe tbody tr th:only-of-type {\n",
              "        vertical-align: middle;\n",
              "    }\n",
              "\n",
              "    .dataframe tbody tr th {\n",
              "        vertical-align: top;\n",
              "    }\n",
              "\n",
              "    .dataframe thead th {\n",
              "        text-align: right;\n",
              "    }\n",
              "</style>\n",
              "<table border=\"1\" class=\"dataframe\">\n",
              "  <thead>\n",
              "    <tr style=\"text-align: right;\">\n",
              "      <th></th>\n",
              "      <th>bluecars_taken</th>\n",
              "      <th>bluecars_returned</th>\n",
              "    </tr>\n",
              "    <tr>\n",
              "      <th>day_type</th>\n",
              "      <th></th>\n",
              "      <th></th>\n",
              "    </tr>\n",
              "  </thead>\n",
              "  <tbody>\n",
              "    <tr>\n",
              "      <th>weekday</th>\n",
              "      <td>66.090508</td>\n",
              "      <td>65.482924</td>\n",
              "    </tr>\n",
              "    <tr>\n",
              "      <th>weekend</th>\n",
              "      <td>62.741907</td>\n",
              "      <td>63.358368</td>\n",
              "    </tr>\n",
              "  </tbody>\n",
              "</table>\n",
              "</div>"
            ],
            "text/plain": [
              "          bluecars_taken  bluecars_returned\n",
              "day_type                                   \n",
              "weekday        66.090508          65.482924\n",
              "weekend        62.741907          63.358368"
            ]
          },
          "metadata": {
            "tags": []
          },
          "execution_count": 24
        }
      ]
    },
    {
      "cell_type": "markdown",
      "metadata": {
        "id": "QY_dAirUYWjL"
      },
      "source": [
        "The mean of blue car usage is relatively higher during the weekend compared to the weekdays in both cars taken and returned\n",
        "\n",
        "The standard deviation of the weekday data is slightly higher than the weekend. This means data has more variation during the weekday\n"
      ]
    },
    {
      "cell_type": "markdown",
      "metadata": {
        "id": "GIFmjf3KZRHk"
      },
      "source": [
        "## Multivariate Analysis"
      ]
    },
    {
      "cell_type": "code",
      "metadata": {
        "colab": {
          "base_uri": "https://localhost:8080/",
          "height": 353
        },
        "id": "Knvbfe18ZQy1",
        "outputId": "3f42bd3f-c240-46ef-9f50-b12a98f03b2c"
      },
      "source": [
        "# Calculating correlation\n",
        "corr=bluecar.corr()\n",
        "print(corr)\n",
        "sns.heatmap(corr, xticklabels=corr.columns, yticklabels=corr.columns, annot=True)"
      ],
      "execution_count": 25,
      "outputs": [
        {
          "output_type": "stream",
          "text": [
            "                   bluecars_taken  bluecars_returned\n",
            "bluecars_taken           1.000000           0.995543\n",
            "bluecars_returned        0.995543           1.000000\n"
          ],
          "name": "stdout"
        },
        {
          "output_type": "execute_result",
          "data": {
            "text/plain": [
              "<matplotlib.axes._subplots.AxesSubplot at 0x7f58ed6fb290>"
            ]
          },
          "metadata": {
            "tags": []
          },
          "execution_count": 25
        },
        {
          "output_type": "display_data",
          "data": {
            "image/png": "[encoded data removed]",
            "text/plain": [
              "<Figure size 432x288 with 2 Axes>"
            ]
          },
          "metadata": {
            "tags": [],
            "needs_background": "light"
          }
        }
      ]
    },
    {
      "cell_type": "code",
      "metadata": {
        "colab": {
          "base_uri": "https://localhost:8080/",
          "height": 312
        },
        "id": "W3OpSfevaQVB",
        "outputId": "b21ebcad-5b92-4fc6-b363-33af99e95bf5"
      },
      "source": [
        "# Plot a scatter plot\n",
        "plt.scatter(bluecar['bluecars_taken'],bluecar['bluecars_returned'],)\n",
        "plt.title('Bluecars taken vs Bluecars taken')\n",
        "plt.xlabel('Bluecars taken')\n",
        "plt.ylabel('Bluecars returned')\n",
        "\n"
      ],
      "execution_count": 26,
      "outputs": [
        {
          "output_type": "execute_result",
          "data": {
            "text/plain": [
              "Text(0, 0.5, 'Bluecars returned')"
            ]
          },
          "metadata": {
            "tags": []
          },
          "execution_count": 26
        },
        {
          "output_type": "display_data",
          "data": {
            "image/png": "[encoded data removed]",
            "text/plain": [
              "<Figure size 432x288 with 1 Axes>"
            ]
          },
          "metadata": {
            "tags": [],
            "needs_background": "light"
          }
        }
      ]
    },
    {
      "cell_type": "markdown",
      "metadata": {
        "id": "vibXyETQcGP6"
      },
      "source": [
        "The correlation coefficient of 0.995543 indicates a very strong relationship between the two variables"
      ]
    },
    {
      "cell_type": "code",
      "metadata": {
        "colab": {
          "base_uri": "https://localhost:8080/",
          "height": 295
        },
        "id": "1cOrBe1VY9mG",
        "outputId": "f2f111e9-6f9b-4070-c932-54711e304f38"
      },
      "source": [
        "\n",
        "sns.lineplot(x='date',y='bluecars_taken',data=df)\n",
        "plt.title('Timeline of bluecars rented')\n",
        "\n",
        "plt.show()"
      ],
      "execution_count": 27,
      "outputs": [
        {
          "output_type": "display_data",
          "data": {
            "image/png": "[encoded data removed]",
            "text/plain": [
              "<Figure size 432x288 with 1 Axes>"
            ]
          },
          "metadata": {
            "tags": [],
            "needs_background": "light"
          }
        }
      ]
    },
    {
      "cell_type": "markdown",
      "metadata": {
        "id": "b-_TXT6HBWrV"
      },
      "source": [
        "# Hypothesis Testing\n"
      ]
    },
    {
      "cell_type": "code",
      "metadata": {
        "colab": {
          "base_uri": "https://localhost:8080/"
        },
        "id": "2EwKBYepBZqY",
        "outputId": "371f7baa-e53b-4655-cfd9-ff9dccb00be9"
      },
      "source": [
        "# Check for normality\n",
        "# weekday data using The Shapiro-Wilk Test\n",
        "from scipy.stats import shapiro\n",
        "stat, p = shapiro(weekday['bluecars_taken'])\n",
        "print('Statistics=%.3f, p=%.3f' % (stat, p))\n",
        "# interpret\n",
        "alpha = 0.05\n",
        "if p > alpha:\n",
        "\tprint('Sample looks Gaussian')\n",
        "else:\n",
        "\tprint('Sample does not look Gaussian')"
      ],
      "execution_count": 28,
      "outputs": [
        {
          "output_type": "stream",
          "text": [
            "Statistics=0.760, p=0.000\n",
            "Sample does not look Gaussian\n"
          ],
          "name": "stdout"
        },
        {
          "output_type": "stream",
          "text": [
            "/usr/local/lib/python3.7/dist-packages/scipy/stats/morestats.py:1676: UserWarning: p-value may not be accurate for N > 5000.\n",
            "  warnings.warn(\"p-value may not be accurate for N > 5000.\")\n"
          ],
          "name": "stderr"
        }
      ]
    },
    {
      "cell_type": "code",
      "metadata": {
        "colab": {
          "base_uri": "https://localhost:8080/"
        },
        "id": "2CKfSGQ55u18",
        "outputId": "06a1220a-baac-48e8-f478-e516784ee3c7"
      },
      "source": [
        "# weekend data using D’Agostino’s K^2 Test\n",
        "from scipy.stats import normaltest\n",
        "stat,p=normaltest(weekend['bluecars_taken'])\n",
        "print('Statistics=%.3f, p=%.3f' % (stat, p))\n",
        "alpha = 0.05\n",
        "if p > alpha:\n",
        "\tprint('Sample looks Gaussian')\n",
        "else:\n",
        "\tprint('Sample does not look Gaussian')"
      ],
      "execution_count": 29,
      "outputs": [
        {
          "output_type": "stream",
          "text": [
            "Statistics=1087.758, p=0.000\n",
            "Sample does not look Gaussian\n"
          ],
          "name": "stdout"
        }
      ]
    },
    {
      "cell_type": "markdown",
      "metadata": {
        "id": "KLWC75_H6trG"
      },
      "source": [
        "\n",
        "\n",
        "Since both of our datasets do not follow a normal distribution, we reject the use of all parametric tests and consider using non parametric test.\n",
        "\n",
        "In our case we will use Wilcoxon Signed-Rank Test for two paired samples since our samples are drawn from the same population. It is used to compare two related samples, matched samples, or repeated measurements on a single sample to assess whether their population mean ranks differ\n",
        "\n",
        "Our hypothesis as defined earlier:\n",
        "\n",
        "Null and Alternative hypothesis\n",
        "\n",
        "Ho: μ₁ = μ₂\n",
        "\n",
        "H1: μ₁ ≠ μ₂ \n",
        "We will define our alpha = 0.05\n",
        "\n",
        "Asumptions\n",
        "\n",
        "To use Wilcoxon Signed-Rank test both dataset x and y need to have the same length and their should be atleast 20 records\n"
      ]
    },
    {
      "cell_type": "code",
      "metadata": {
        "colab": {
          "base_uri": "https://localhost:8080/"
        },
        "id": "pVtPcwcO6mFV",
        "outputId": "d025d9cd-4dba-4f9d-9079-758d39290cdc"
      },
      "source": [
        "# Assuming Beta=0.1, power = 0.9\n",
        "# a larger sample size increases precision so we will use 10% of the data to calculate the Test statistic\n",
        "samplesize=int(0.1*bluecar.shape[0])\n",
        "samplesize"
      ],
      "execution_count": 30,
      "outputs": [
        {
          "output_type": "execute_result",
          "data": {
            "text/plain": [
              "1382"
            ]
          },
          "metadata": {
            "tags": []
          },
          "execution_count": 30
        }
      ]
    },
    {
      "cell_type": "code",
      "metadata": {
        "colab": {
          "base_uri": "https://localhost:8080/"
        },
        "id": "C5cZ3pUfEF3M",
        "outputId": "12ff5dff-d415-4260-d1b6-c7e5fdb3f49d"
      },
      "source": [
        "# U\n",
        "\n",
        "# we will use a simple random sampling to randomly select 10% of values from the population\n",
        "# which is the weekend dataset\n",
        "weekend_taken=weekend['bluecars_taken'].sample(1382)\n",
        "weekend_taken"
      ],
      "execution_count": 31,
      "outputs": [
        {
          "output_type": "execute_result",
          "data": {
            "text/plain": [
              "10512     10.0\n",
              "14190    130.0\n",
              "14301     53.0\n",
              "250      176.0\n",
              "13371     54.0\n",
              "         ...  \n",
              "9133      20.0\n",
              "11666     21.0\n",
              "10805     22.0\n",
              "3992      14.0\n",
              "3755      53.0\n",
              "Name: bluecars_taken, Length: 1382, dtype: float64"
            ]
          },
          "metadata": {
            "tags": []
          },
          "execution_count": 31
        }
      ]
    },
    {
      "cell_type": "code",
      "metadata": {
        "colab": {
          "base_uri": "https://localhost:8080/"
        },
        "id": "CBS0qACzFNxn",
        "outputId": "a614c18f-2618-4d19-b71e-6cee7e13ef7a"
      },
      "source": [
        "weekday_taken=weekday['bluecars_taken'].sample(1382)\n",
        "weekday_taken"
      ],
      "execution_count": 32,
      "outputs": [
        {
          "output_type": "execute_result",
          "data": {
            "text/plain": [
              "12448    34.0\n",
              "13510    38.0\n",
              "10938    23.0\n",
              "3225      9.0\n",
              "6492     67.0\n",
              "         ... \n",
              "6327     74.0\n",
              "5821     61.0\n",
              "12697    26.0\n",
              "6088     69.0\n",
              "3766     30.0\n",
              "Name: bluecars_taken, Length: 1382, dtype: float64"
            ]
          },
          "metadata": {
            "tags": []
          },
          "execution_count": 32
        }
      ]
    },
    {
      "cell_type": "code",
      "metadata": {
        "colab": {
          "base_uri": "https://localhost:8080/"
        },
        "id": "CkK9ObS6FZiN",
        "outputId": "59ee1f9d-c1e9-4ea9-a6aa-d765c3576eea"
      },
      "source": [
        "# Calculate the statistic and p value\n",
        "from scipy.stats import wilcoxon\n",
        "# compare samples\n",
        "stat, p = wilcoxon(weekday_taken, weekend_taken)\n",
        "print('Statistics=%.3f, p=%.3f' % (stat, p))\n",
        "# interpret\n",
        "alpha = 0.05\n",
        "if p > alpha:\n",
        "    print('Fail to reject H0')\n",
        "else:\n",
        "    print('Reject H0')"
      ],
      "execution_count": 33,
      "outputs": [
        {
          "output_type": "stream",
          "text": [
            "Statistics=394272.500, p=0.000\n",
            "Reject H0\n"
          ],
          "name": "stdout"
        }
      ]
    },
    {
      "cell_type": "markdown",
      "metadata": {
        "id": "GG8hzMvAeY1b"
      },
      "source": [
        "Challenge the Solution"
      ]
    },
    {
      "cell_type": "code",
      "metadata": {
        "id": "ZbP_vvOkeecs"
      },
      "source": [
        "# use a different sample size\n",
        "weekend_taken_1=weekend['bluecars_taken'].sample(100)\n",
        "\n",
        "weekday_taken_1=weekday['bluecars_taken'].sample(100)\n"
      ],
      "execution_count": 34,
      "outputs": []
    },
    {
      "cell_type": "code",
      "metadata": {
        "colab": {
          "base_uri": "https://localhost:8080/"
        },
        "id": "lr6JVTt6eype",
        "outputId": "cb13402b-3e41-4feb-c5dd-743f5ecb03c8"
      },
      "source": [
        "# Calculate the statistic and p value\n",
        "from scipy.stats import wilcoxon\n",
        "# compare samples\n",
        "stat, p = wilcoxon(weekday_taken_1, weekend_taken_1)\n",
        "print('Statistics=%.3f, p=%.3f' % (stat, p))\n",
        "# interpret\n",
        "alpha = 0.05\n",
        "if p > alpha:\n",
        "    print('Fail to reject H0')\n",
        "else:\n",
        "    print('Reject H0')"
      ],
      "execution_count": 35,
      "outputs": [
        {
          "output_type": "stream",
          "text": [
            "Statistics=2304.500, p=0.552\n",
            "Fail to reject H0\n"
          ],
          "name": "stdout"
        }
      ]
    },
    {
      "cell_type": "markdown",
      "metadata": {
        "id": "Cr9yTAiZbhyr"
      },
      "source": [
        "Interpretation of results\n",
        "\n",
        "A wilcoxon T test was used to analyse the mean of the two strata. A sample of 1382, which represented a 10% representation of the population. We used 95% significance level to test the hypothesis.\n",
        "\n",
        "The p value of 0 is less than alpha, 0.05. Therefore we reject the null hypothesis. This shows that the mean of the number of bluecars rented on the weekends (65.600794) differed with the mean of the number of bluecars rented on the weekdays (59.376767)\n",
        "\n",
        "We challenge the solution using a smaller sample size. We reject H0\n",
        "\n",
        "\n"
      ]
    },
    {
      "cell_type": "markdown",
      "metadata": {
        "id": "Po6dkJ9hbDPP"
      },
      "source": [
        "# Conclusion\n",
        "\n"
      ]
    },
    {
      "cell_type": "markdown",
      "metadata": {
        "id": "zE4KF8sDbF1O"
      },
      "source": [
        "\n",
        "\n",
        "In conclusion, the study shows significant difference between the number of cars taken during weekdays and during weekends.  \n",
        "\n",
        "The autolib management can therefore make strategic decisions:\n",
        " 1. to increase the number of cars available on weekends from this findings.\n",
        " 2. increase the staff roster over the weekend compared to the weekday\n",
        " \n",
        "\n",
        "\n"
      ]
    }
  ]
}